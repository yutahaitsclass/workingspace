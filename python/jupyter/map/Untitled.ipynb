{
 "cells": [
  {
   "cell_type": "code",
   "execution_count": 2,
   "metadata": {},
   "outputs": [],
   "source": [
    "import folium"
   ]
  },
  {
   "cell_type": "code",
   "execution_count": 3,
   "metadata": {},
   "outputs": [],
   "source": [
    "map1 = folium.Map(location=[-30.159215, 138.955078], zoom_start=4)"
   ]
  },
  {
   "cell_type": "code",
   "execution_count": 4,
   "metadata": {},
   "outputs": [],
   "source": [
    "map1.save('map1.html')"
   ]
  },
  {
   "cell_type": "code",
   "execution_count": 5,
   "metadata": {},
   "outputs": [],
   "source": [
    "map2 = folium.Map(location=[-30.159215, 138.955078], zoom_start=4)"
   ]
  },
  {
   "cell_type": "code",
   "execution_count": 6,
   "metadata": {},
   "outputs": [
    {
     "data": {
      "text/plain": [
       "<folium.map.Marker at 0x1e4257b4b38>"
      ]
     },
     "execution_count": 6,
     "metadata": {},
     "output_type": "execute_result"
    }
   ],
   "source": [
    "folium.Marker([-31.253218, 146.921099], popup='New South Wales').add_to(map2)"
   ]
  },
  {
   "cell_type": "code",
   "execution_count": 8,
   "metadata": {},
   "outputs": [],
   "source": [
    "map2.save('map2.html')"
   ]
  },
  {
   "cell_type": "code",
   "execution_count": 9,
   "metadata": {},
   "outputs": [],
   "source": [
    "map3 = folium.Map(location=[-30.159215, 138.955078], zoom_start=4)                                     "
   ]
  },
  {
   "cell_type": "code",
   "execution_count": 10,
   "metadata": {},
   "outputs": [
    {
     "data": {
      "text/plain": [
       "<folium.vector_layers.CircleMarker at 0x1e425820470>"
      ]
     },
     "execution_count": 10,
     "metadata": {},
     "output_type": "execute_result"
    }
   ],
   "source": [
    "folium.CircleMarker([-31.253218, 146.921099],\n",
    "                    radius=100000,\n",
    "                     popup='New South Wales',\n",
    "                     color='#3186cc',\n",
    "                    fill_color='#3186cc',\n",
    "                    ).add_to(map3)"
   ]
  },
  {
   "cell_type": "code",
   "execution_count": 12,
   "metadata": {},
   "outputs": [],
   "source": [
    "map3.save('map3.html')"
   ]
  },
  {
   "cell_type": "code",
   "execution_count": 13,
   "metadata": {},
   "outputs": [],
   "source": [
    "map4 = folium.Map(location=[-30.159215, 138.955078], zoom_start=4)"
   ]
  },
  {
   "cell_type": "code",
   "execution_count": 14,
   "metadata": {},
   "outputs": [],
   "source": [
    "states = (\n",
    "    {'lat': -35.473468, 'lon': 149.012368, 'value': 1, 'name': 'Australian Capital Territory'},\n",
    "    {'lat': -31.253218, 'lon': 146.921099, 'value': 2, 'name': 'New South Wales'},\n",
    "    {'lat': -19.491411, 'lon': 132.550960, 'value': 3, 'name': 'Northern Territory'},\n",
    "    {'lat': -20.917574, 'lon': 142.702796, 'value': 4, 'name': 'Queensland'},\n",
    "    {'lat': -30.000232, 'lon': 136.209155, 'value': 5, 'name': 'South Australia'},\n",
    "    {'lat': -41.454520, 'lon': 145.970665, 'value': 6, 'name': 'Tasmania'},\n",
    "    {'lat': -37.471308, 'lon': 144.785153, 'value': 7, 'name': 'Victoria'},\n",
    "    {'lat': -27.672817, 'lon': 121.628310, 'value': 8, 'name': 'Western Australia'}\n",
    ")"
   ]
  },
  {
   "cell_type": "code",
   "execution_count": 17,
   "metadata": {},
   "outputs": [],
   "source": [
    "WEIGHT = 100000\n",
    "for state in states:\n",
    "    folium.CircleMarker(\n",
    "            [state['lat'], state['lon']],\n",
    "            radius=state['value'] * WEIGHT,\n",
    "            popup=state['name'],\n",
    "            color='#3186cc',\n",
    "            fill_color='#3186cc',\n",
    "    ).add_to(map4)\n",
    "\n",
    "map4.save('map4.html')"
   ]
  },
  {
   "cell_type": "code",
   "execution_count": null,
   "metadata": {},
   "outputs": [],
   "source": []
  }
 ],
 "metadata": {
  "kernelspec": {
   "display_name": "Python 3",
   "language": "python",
   "name": "python3"
  },
  "language_info": {
   "codemirror_mode": {
    "name": "ipython",
    "version": 3
   },
   "file_extension": ".py",
   "mimetype": "text/x-python",
   "name": "python",
   "nbconvert_exporter": "python",
   "pygments_lexer": "ipython3",
   "version": "3.7.0"
  }
 },
 "nbformat": 4,
 "nbformat_minor": 2
}
