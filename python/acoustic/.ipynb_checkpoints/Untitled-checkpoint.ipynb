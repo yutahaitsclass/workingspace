{
 "cells": [
  {
   "cell_type": "code",
   "execution_count": 46,
   "metadata": {},
   "outputs": [],
   "source": [
    "import numpy as np"
   ]
  },
  {
   "cell_type": "code",
   "execution_count": 47,
   "metadata": {},
   "outputs": [],
   "source": [
    "input = \"RBBRRBB\""
   ]
  },
  {
   "cell_type": "code",
   "execution_count": 104,
   "metadata": {},
   "outputs": [],
   "source": [
    "M=[[[0.6,0.4,0.6,0.4],[0.5,0.5,0.7,0.3],[0.8,0.2,0.5,0.5]],[[0.6,0.4,0.6,0.4],[0.5,0.5,0.7,0.3],[0.8,0.2,0.5,0.5]]]\n",
    "# [\"R\",\"B\",\"戻る\",\"つぎへ\"]\n"
   ]
  },
  {
   "cell_type": "code",
   "execution_count": 106,
   "metadata": {},
   "outputs": [
    {
     "data": {
      "text/plain": [
       "3"
      ]
     },
     "execution_count": 106,
     "metadata": {},
     "output_type": "execute_result"
    }
   ],
   "source": [
    "len(M[0])"
   ]
  },
  {
   "cell_type": "code",
   "execution_count": 50,
   "metadata": {},
   "outputs": [],
   "source": [
    "# n=len(input)\n",
    "# k=len(M)"
   ]
  },
  {
   "cell_type": "code",
   "execution_count": 51,
   "metadata": {
    "scrolled": true
   },
   "outputs": [],
   "source": [
    "# m=[]\n",
    "# p=[]\n",
    "# for i in range(1,n-k+2):\n",
    "#     s1=input[0:i]\n",
    "#     s2=input[i:n-k+2]\n",
    "   \n",
    "# #     p_s1=(M[0][0]**(s1.count('R')))*(M[0][1]**(s1.count('B')))*(M[0][2]**(len(s1)-1))\n",
    "# #     p_s2=(M[1][0]**(s2.count('R')))*(M[1][1]**(s2.count('B')))*(M[1][2]**(len(s2)-1))\n",
    "# #     p_s=p_s1*p_s2\n",
    "# #     common=M[0][3]*M[1][3]\n",
    "# #     p.append(p_s*common)"
   ]
  },
  {
   "cell_type": "code",
   "execution_count": 52,
   "metadata": {},
   "outputs": [],
   "source": [
    "# print(input[0:1]+input[1:3])\n",
    "# print(input[0:2]+input[2:3])"
   ]
  },
  {
   "cell_type": "code",
   "execution_count": 53,
   "metadata": {},
   "outputs": [
    {
     "data": {
      "text/plain": [
       "0"
      ]
     },
     "execution_count": 53,
     "metadata": {},
     "output_type": "execute_result"
    }
   ],
   "source": [
    "# for s_0 in range(6):\n",
    "# #     x\n",
    "round(sum(p),5)"
   ]
  },
  {
   "cell_type": "code",
   "execution_count": 54,
   "metadata": {},
   "outputs": [],
   "source": [
    "# help(list)\n",
    "# n=7\n",
    "# k=3"
   ]
  },
  {
   "cell_type": "code",
   "execution_count": 55,
   "metadata": {},
   "outputs": [],
   "source": [
    "list=[]"
   ]
  },
  {
   "cell_type": "code",
   "execution_count": 56,
   "metadata": {},
   "outputs": [],
   "source": [
    "for i in range(1,n-k+1):\n",
    "    for j in range(1,n-i-k+2):\n",
    "            list.append([i,j,n-i-j])\n",
    "       "
   ]
  },
  {
   "cell_type": "code",
   "execution_count": null,
   "metadata": {},
   "outputs": [],
   "source": []
  },
  {
   "cell_type": "code",
   "execution_count": 57,
   "metadata": {},
   "outputs": [
    {
     "data": {
      "text/plain": [
       "[1, 1, 5]"
      ]
     },
     "execution_count": 57,
     "metadata": {},
     "output_type": "execute_result"
    }
   ],
   "source": [
    "list[0]"
   ]
  },
  {
   "cell_type": "code",
   "execution_count": 58,
   "metadata": {},
   "outputs": [],
   "source": [
    "# f_break=list[0][0]\n",
    "# s_break=f_break+list[0][1]\n",
    "# t_break=s_break+list[0][2]"
   ]
  },
  {
   "cell_type": "code",
   "execution_count": 59,
   "metadata": {},
   "outputs": [
    {
     "name": "stdout",
     "output_type": "stream",
     "text": [
      "[1, 2, 7]\n"
     ]
    }
   ],
   "source": [
    "# print([f_break,s_break,t_break])"
   ]
  },
  {
   "cell_type": "code",
   "execution_count": 60,
   "metadata": {},
   "outputs": [],
   "source": [
    "# area1=input[0:f_break]\n",
    "# area2=input[f_break:s_break]\n",
    "# area3=input[s_break:t_break]"
   ]
  },
  {
   "cell_type": "code",
   "execution_count": 61,
   "metadata": {},
   "outputs": [
    {
     "name": "stdout",
     "output_type": "stream",
     "text": [
      "R\n",
      "B\n",
      "BRRBB\n"
     ]
    }
   ],
   "source": [
    "# print(area1)\n",
    "# print(area2)\n",
    "# print(area3)"
   ]
  },
  {
   "cell_type": "code",
   "execution_count": 91,
   "metadata": {},
   "outputs": [],
   "source": [
    "# p_area1=(M[0][0]**(area1.count('R')))*(M[0][1]**(area1.count('B')))*(M[0][2]**(len(area1)-1))\n",
    "# p_area2=(M[1][0]**(area2.count('R')))*(M[1][1]**(area2.count('B')))*(M[1][2]**(len(area2)-1))\n",
    "# p_area3=(M[2][0]**(area3.count('R')))*(M[2][1]**(area3.count('B')))*(M[2][2]**(len(area3)-1))"
   ]
  },
  {
   "cell_type": "raw",
   "metadata": {},
   "source": []
  },
  {
   "cell_type": "code",
   "execution_count": null,
   "metadata": {
    "scrolled": true
   },
   "outputs": [],
   "source": []
  },
  {
   "cell_type": "code",
   "execution_count": 92,
   "metadata": {},
   "outputs": [],
   "source": [
    "# import functools\n",
    "# import operator\n",
    "# prod = functools.partial(functools.reduce, operator.mul)"
   ]
  },
  {
   "cell_type": "code",
   "execution_count": 93,
   "metadata": {},
   "outputs": [
    {
     "data": {
      "text/plain": [
       "9.600000000000004e-05"
      ]
     },
     "execution_count": 93,
     "metadata": {},
     "output_type": "execute_result"
    }
   ],
   "source": [
    "# np.prod([p_area1,p_area2,p_area3])\n",
    "    "
   ]
  },
  {
   "cell_type": "code",
   "execution_count": 112,
   "metadata": {},
   "outputs": [
    {
     "ename": "IndentationError",
     "evalue": "expected an indented block (<ipython-input-112-899b10be2beb>, line 8)",
     "output_type": "error",
     "traceback": [
      "\u001b[1;36m  File \u001b[1;32m\"<ipython-input-112-899b10be2beb>\"\u001b[1;36m, line \u001b[1;32m8\u001b[0m\n\u001b[1;33m    f_break=list[i][0]\u001b[0m\n\u001b[1;37m          ^\u001b[0m\n\u001b[1;31mIndentationError\u001b[0m\u001b[1;31m:\u001b[0m expected an indented block\n"
     ]
    }
   ],
   "source": [
    "import functools\n",
    "import operator\n",
    "prod = functools.partial(functools.reduce, operator.mul)\n",
    "p=[[]]\n",
    "for m_num in range(len(M)):\n",
    "    common=M[m_num][0][3]*M[m_num][1][3]*M[m_num][2][3]\n",
    "    for i in range(len(list)):\n",
    "        f_break=list[i][0]\n",
    "        s_break=f_break+list[i][1]\n",
    "        t_break=s_break+list[i][2]\n",
    "        \n",
    "        area1=input[0:f_break]\n",
    "        area2=input[f_break:s_break]\n",
    "        area3=input[s_break:t_break]\n",
    "        \n",
    "        p_area1=(M[m_num][0][0]**(area1.count('R')))*(M[m_num][0][1]**(area1.count('B')))*(M[m_num][0][2]**(len(area1)-1))\n",
    "        p_area2=(M[m_num][1][0]**(area2.count('R')))*(M[m_num][1][1]**(area2.count('B')))*(M[m_num][1][2]**(len(area2)-1))\n",
    "        p_area3=(M[m_num][2][0]**(area3.count('R')))*(M[m_num][2][1]**(area3.count('B')))*(M[m_num][2][2]**(len(area3)-1))\n",
    "        \n",
    "        p[m_num].append(np.prod([p_area1,p_area2,p_area3])*common)        \n"
   ]
  },
  {
   "cell_type": "code",
   "execution_count": 111,
   "metadata": {},
   "outputs": [
    {
     "data": {
      "text/plain": [
       "[[5.7600000000000024e-06,\n",
       "  2.0160000000000007e-05,\n",
       "  1.7639999999999997e-05,\n",
       "  1.5435e-05,\n",
       "  1.3824000000000005e-05,\n",
       "  1.2096e-05,\n",
       "  1.0584e-05,\n",
       "  8.294400000000003e-06,\n",
       "  7.257600000000002e-06,\n",
       "  7.464960000000001e-06]]"
      ]
     },
     "execution_count": 111,
     "metadata": {},
     "output_type": "execute_result"
    }
   ],
   "source": [
    "p"
   ]
  },
  {
   "cell_type": "code",
   "execution_count": null,
   "metadata": {},
   "outputs": [],
   "source": []
  }
 ],
 "metadata": {
  "kernelspec": {
   "display_name": "Python 3",
   "language": "python",
   "name": "python3"
  },
  "language_info": {
   "codemirror_mode": {
    "name": "ipython",
    "version": 3
   },
   "file_extension": ".py",
   "mimetype": "text/x-python",
   "name": "python",
   "nbconvert_exporter": "python",
   "pygments_lexer": "ipython3",
   "version": "3.7.0"
  }
 },
 "nbformat": 4,
 "nbformat_minor": 2
}
