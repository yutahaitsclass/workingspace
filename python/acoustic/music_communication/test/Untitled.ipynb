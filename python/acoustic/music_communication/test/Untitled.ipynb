{
 "cells": [
  {
   "cell_type": "code",
   "execution_count": 39,
   "metadata": {},
   "outputs": [],
   "source": [
    "from pydub import AudioSegment\n",
    "import numpy as np\n",
    "import pandas as pd\n",
    "import matplotlib.pyplot as plt\n",
    "import seaborn as sns\n",
    "\n",
    "%matplotlib inline"
   ]
  },
  {
   "cell_type": "code",
   "execution_count": 40,
   "metadata": {},
   "outputs": [],
   "source": [
    "angle=[]\n",
    "# for i in range(len(np.arange(0,360,5))):\n",
    "#     angle[i]=(str(angle[i]).rjust(3, '0'))\n",
    "name = np.arange(-10,30,10)\n",
    "\n",
    "for i in range(0,360,5):\n",
    "    angle.append(str(i).rjust(3, '0'))\n",
    "#  = AudioSegment.from_file(\"L20e\"+i+\"a.wav\", \"wav\")]"
   ]
  },
  {
   "cell_type": "code",
   "execution_count": 41,
   "metadata": {},
   "outputs": [],
   "source": [
    "df_L=pd.DataFrame(index=name,columns=angle)"
   ]
  },
  {
   "cell_type": "code",
   "execution_count": 42,
   "metadata": {},
   "outputs": [],
   "source": [
    "for i in range(len(name)):\n",
    "    for j in range(len(angle)):\n",
    "        test= AudioSegment.from_file(\"elev\"+str(name[i])+\"/L\"+str(name[i])+\"e\"+str(angle[j])+\"a.wav\", \"wav\")  \n",
    "        list_sound = test.get_array_of_samples()\n",
    "        df_L.iloc[i,j]=max(list_sound)"
   ]
  },
  {
   "cell_type": "code",
   "execution_count": 43,
   "metadata": {},
   "outputs": [],
   "source": [
    "df_R=pd.DataFrame(index=name,columns=angle)\n",
    "for i in range(len(name)):\n",
    "    for j in range(len(angle)):\n",
    "        test= AudioSegment.from_file(\"elev\"+str(name[i])+\"/R\"+str(name[i])+\"e\"+str(angle[j])+\"a.wav\", \"wav\")  \n",
    "        list_sound = test.get_array_of_samples()\n",
    "        df_R.iloc[i,j]=max(list_sound)"
   ]
  },
  {
   "cell_type": "code",
   "execution_count": 44,
   "metadata": {},
   "outputs": [],
   "source": [
    "df_copy=df_R"
   ]
  },
  {
   "cell_type": "code",
   "execution_count": 45,
   "metadata": {},
   "outputs": [],
   "source": [
    "for i in range(len(df_copy)):\n",
    "    for j in range(len(df_copy.columns)):\n",
    "        df_copy.iloc[i,j]=(abs(df_R.iloc[i,j])-abs(df_L.iloc[i,j]))/min(abs(df_R.iloc[i,j]),abs(df_L.iloc[i,j]))"
   ]
  },
  {
   "cell_type": "code",
   "execution_count": 50,
   "metadata": {},
   "outputs": [],
   "source": [
    "y=df_copy.iloc[2,0:int(len(df_copy.columns))]\n",
    "x=np.array([int(n) for n in list(df_copy.columns[0:(int(len(df_copy.columns)))])]).reshape(-1, 1)\n",
    "y=np.array(list(y))"
   ]
  },
  {
   "cell_type": "code",
   "execution_count": 51,
   "metadata": {},
   "outputs": [
    {
     "data": {
      "text/html": [
       "<div>\n",
       "<style scoped>\n",
       "    .dataframe tbody tr th:only-of-type {\n",
       "        vertical-align: middle;\n",
       "    }\n",
       "\n",
       "    .dataframe tbody tr th {\n",
       "        vertical-align: top;\n",
       "    }\n",
       "\n",
       "    .dataframe thead th {\n",
       "        text-align: right;\n",
       "    }\n",
       "</style>\n",
       "<table border=\"1\" class=\"dataframe\">\n",
       "  <thead>\n",
       "    <tr style=\"text-align: right;\">\n",
       "      <th></th>\n",
       "      <th>000</th>\n",
       "      <th>005</th>\n",
       "      <th>010</th>\n",
       "      <th>015</th>\n",
       "      <th>020</th>\n",
       "      <th>025</th>\n",
       "      <th>030</th>\n",
       "      <th>035</th>\n",
       "      <th>040</th>\n",
       "      <th>045</th>\n",
       "      <th>...</th>\n",
       "      <th>310</th>\n",
       "      <th>315</th>\n",
       "      <th>320</th>\n",
       "      <th>325</th>\n",
       "      <th>330</th>\n",
       "      <th>335</th>\n",
       "      <th>340</th>\n",
       "      <th>345</th>\n",
       "      <th>350</th>\n",
       "      <th>355</th>\n",
       "    </tr>\n",
       "  </thead>\n",
       "  <tbody>\n",
       "    <tr>\n",
       "      <th>-10</th>\n",
       "      <td>-0.223178</td>\n",
       "      <td>0.050555</td>\n",
       "      <td>0.282639</td>\n",
       "      <td>0.487566</td>\n",
       "      <td>0.643628</td>\n",
       "      <td>0.904775</td>\n",
       "      <td>1.263807</td>\n",
       "      <td>1.740046</td>\n",
       "      <td>2.205850</td>\n",
       "      <td>3.091891</td>\n",
       "      <td>...</td>\n",
       "      <td>-4.057812</td>\n",
       "      <td>-3.291130</td>\n",
       "      <td>-2.647098</td>\n",
       "      <td>-2.352965</td>\n",
       "      <td>-2.044381</td>\n",
       "      <td>-1.647994</td>\n",
       "      <td>-1.224265</td>\n",
       "      <td>-0.685661</td>\n",
       "      <td>-0.448801</td>\n",
       "      <td>-0.366684</td>\n",
       "    </tr>\n",
       "    <tr>\n",
       "      <th>0</th>\n",
       "      <td>0.102511</td>\n",
       "      <td>0.287583</td>\n",
       "      <td>0.506078</td>\n",
       "      <td>0.707825</td>\n",
       "      <td>1.063949</td>\n",
       "      <td>1.413471</td>\n",
       "      <td>1.722163</td>\n",
       "      <td>2.133116</td>\n",
       "      <td>2.616817</td>\n",
       "      <td>2.888940</td>\n",
       "      <td>...</td>\n",
       "      <td>-4.199437</td>\n",
       "      <td>-3.401164</td>\n",
       "      <td>-2.347946</td>\n",
       "      <td>-1.569268</td>\n",
       "      <td>-1.395750</td>\n",
       "      <td>-1.181064</td>\n",
       "      <td>-0.918324</td>\n",
       "      <td>-0.684342</td>\n",
       "      <td>-0.399400</td>\n",
       "      <td>-0.137042</td>\n",
       "    </tr>\n",
       "    <tr>\n",
       "      <th>10</th>\n",
       "      <td>0.166467</td>\n",
       "      <td>0.362417</td>\n",
       "      <td>0.759950</td>\n",
       "      <td>1.150547</td>\n",
       "      <td>1.654177</td>\n",
       "      <td>2.117525</td>\n",
       "      <td>2.327869</td>\n",
       "      <td>2.414243</td>\n",
       "      <td>2.906085</td>\n",
       "      <td>3.381082</td>\n",
       "      <td>...</td>\n",
       "      <td>-2.698040</td>\n",
       "      <td>-3.016860</td>\n",
       "      <td>-2.623861</td>\n",
       "      <td>-1.800821</td>\n",
       "      <td>-1.356741</td>\n",
       "      <td>-1.148629</td>\n",
       "      <td>-0.844539</td>\n",
       "      <td>-0.557524</td>\n",
       "      <td>-0.281263</td>\n",
       "      <td>-0.053742</td>\n",
       "    </tr>\n",
       "    <tr>\n",
       "      <th>20</th>\n",
       "      <td>0.089403</td>\n",
       "      <td>0.364834</td>\n",
       "      <td>0.647703</td>\n",
       "      <td>0.943942</td>\n",
       "      <td>1.357861</td>\n",
       "      <td>1.611216</td>\n",
       "      <td>2.219362</td>\n",
       "      <td>2.621974</td>\n",
       "      <td>2.583810</td>\n",
       "      <td>2.980689</td>\n",
       "      <td>...</td>\n",
       "      <td>-2.701440</td>\n",
       "      <td>-2.022509</td>\n",
       "      <td>-2.208851</td>\n",
       "      <td>-1.927061</td>\n",
       "      <td>-1.283143</td>\n",
       "      <td>-1.114409</td>\n",
       "      <td>-0.894078</td>\n",
       "      <td>-0.570519</td>\n",
       "      <td>-0.291879</td>\n",
       "      <td>-0.003673</td>\n",
       "    </tr>\n",
       "  </tbody>\n",
       "</table>\n",
       "<p>4 rows × 72 columns</p>\n",
       "</div>"
      ],
      "text/plain": [
       "          000       005       010       015       020       025       030  \\\n",
       "-10 -0.223178  0.050555  0.282639  0.487566  0.643628  0.904775  1.263807   \n",
       " 0   0.102511  0.287583  0.506078  0.707825  1.063949  1.413471  1.722163   \n",
       " 10  0.166467  0.362417  0.759950  1.150547  1.654177  2.117525  2.327869   \n",
       " 20  0.089403  0.364834  0.647703  0.943942  1.357861  1.611216  2.219362   \n",
       "\n",
       "          035       040       045    ...          310       315       320  \\\n",
       "-10  1.740046  2.205850  3.091891    ...    -4.057812 -3.291130 -2.647098   \n",
       " 0   2.133116  2.616817  2.888940    ...    -4.199437 -3.401164 -2.347946   \n",
       " 10  2.414243  2.906085  3.381082    ...    -2.698040 -3.016860 -2.623861   \n",
       " 20  2.621974  2.583810  2.980689    ...    -2.701440 -2.022509 -2.208851   \n",
       "\n",
       "          325       330       335       340       345       350       355  \n",
       "-10 -2.352965 -2.044381 -1.647994 -1.224265 -0.685661 -0.448801 -0.366684  \n",
       " 0  -1.569268 -1.395750 -1.181064 -0.918324 -0.684342 -0.399400 -0.137042  \n",
       " 10 -1.800821 -1.356741 -1.148629 -0.844539 -0.557524 -0.281263 -0.053742  \n",
       " 20 -1.927061 -1.283143 -1.114409 -0.894078 -0.570519 -0.291879 -0.003673  \n",
       "\n",
       "[4 rows x 72 columns]"
      ]
     },
     "execution_count": 51,
     "metadata": {},
     "output_type": "execute_result"
    }
   ],
   "source": [
    "df_copy"
   ]
  },
  {
   "cell_type": "code",
   "execution_count": 52,
   "metadata": {},
   "outputs": [
    {
     "data": {
      "text/plain": [
       "[<matplotlib.lines.Line2D at 0x1f3666bb128>]"
      ]
     },
     "execution_count": 52,
     "metadata": {},
     "output_type": "execute_result"
    },
    {
     "data": {
      "image/png": "[encoded data removed]",
      "text/plain": [
       "<Figure size 432x288 with 1 Axes>"
      ]
     },
     "metadata": {
      "needs_background": "light"
     },
     "output_type": "display_data"
    }
   ],
   "source": [
    "# データ点をプロット\n",
    "plt.scatter(x, y)\n",
    "plt.plot(x, y)"
   ]
  },
  {
   "cell_type": "code",
   "execution_count": null,
   "metadata": {},
   "outputs": [],
   "source": []
  },
  {
   "cell_type": "code",
   "execution_count": null,
   "metadata": {},
   "outputs": [],
   "source": []
  },
  {
   "cell_type": "code",
   "execution_count": null,
   "metadata": {},
   "outputs": [],
   "source": []
  }
 ],
 "metadata": {
  "kernelspec": {
   "display_name": "Python 3",
   "language": "python",
   "name": "python3"
  },
  "language_info": {
   "codemirror_mode": {
    "name": "ipython",
    "version": 3
   },
   "file_extension": ".py",
   "mimetype": "text/x-python",
   "name": "python",
   "nbconvert_exporter": "python",
   "pygments_lexer": "ipython3",
   "version": "3.7.0"
  }
 },
 "nbformat": 4,
 "nbformat_minor": 2
}
