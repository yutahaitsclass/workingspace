{
 "cells": [
  {
   "cell_type": "code",
   "execution_count": 87,
   "metadata": {},
   "outputs": [],
   "source": [
    "from pydub import AudioSegment\n",
    "import numpy as np\n",
    "import pandas as pd\n",
    "import matplotlib.pyplot as plt\n",
    "import seaborn as sns\n",
    "\n",
    "%matplotlib inline"
   ]
  },
  {
   "cell_type": "code",
   "execution_count": 88,
   "metadata": {},
   "outputs": [],
   "source": [
    "angle=[]\n",
    "# for i in range(len(np.arange(0,360,5))):\n",
    "#     angle[i]=(str(angle[i]).rjust(3, '0'))\n",
    "name = np.arange(-10,30,10)\n",
    "\n",
    "for i in range(0,360,5):\n",
    "    angle.append(str(i).rjust(3, '0'))\n",
    "#  = AudioSegment.from_file(\"L20e\"+i+\"a.wav\", \"wav\")"
   ]
  },
  {
   "cell_type": "code",
   "execution_count": 89,
   "metadata": {},
   "outputs": [
    {
     "data": {
      "text/plain": [
       "array([-10,   0,  10,  20])"
      ]
     },
     "execution_count": 89,
     "metadata": {},
     "output_type": "execute_result"
    }
   ],
   "source": [
    "name"
   ]
  },
  {
   "cell_type": "code",
   "execution_count": null,
   "metadata": {},
   "outputs": [],
   "source": []
  },
  {
   "cell_type": "code",
   "execution_count": 90,
   "metadata": {},
   "outputs": [],
   "source": [
    "df_L=pd.DataFrame(index=name,columns=angle)"
   ]
  },
  {
   "cell_type": "code",
   "execution_count": 91,
   "metadata": {},
   "outputs": [],
   "source": [
    "for i in range(len(name)):\n",
    "    for j in range(len(angle)):\n",
    "        test= AudioSegment.from_file(\"elev\"+str(name[i])+\"/L\"+str(name[i])+\"e\"+str(angle[j])+\"a.wav\", \"wav\")  \n",
    "        list_sound = test.get_array_of_samples()\n",
    "        df_L.iloc[i,j]=max(list_sound)"
   ]
  },
  {
   "cell_type": "code",
   "execution_count": 92,
   "metadata": {},
   "outputs": [],
   "source": [
    "# import glob\n",
    "# for i in range(len(name)):\n",
    "#     list=glob.glob(\"./elev\"+str(name[i])+\"/*\")\n",
    "#     print(len(list))"
   ]
  },
  {
   "cell_type": "code",
   "execution_count": 93,
   "metadata": {},
   "outputs": [],
   "source": [
    "df_R=pd.DataFrame(index=name,columns=angle)\n",
    "for i in range(len(name)):\n",
    "    for j in range(len(angle)):\n",
    "        test= AudioSegment.from_file(\"elev\"+str(name[i])+\"/R\"+str(name[i])+\"e\"+str(angle[j])+\"a.wav\", \"wav\")  \n",
    "        list_sound = test.get_array_of_samples()\n",
    "        df_R.iloc[i,j]=max(list_sound)"
   ]
  },
  {
   "cell_type": "code",
   "execution_count": 94,
   "metadata": {},
   "outputs": [],
   "source": [
    "# df_L.to_csv(\"data_L.csv\")\n",
    "# df_R.to_csv(\"data_R.csv\")"
   ]
  },
  {
   "cell_type": "code",
   "execution_count": null,
   "metadata": {},
   "outputs": [],
   "source": []
  },
  {
   "cell_type": "code",
   "execution_count": 95,
   "metadata": {},
   "outputs": [],
   "source": [
    "df_copy=df_R"
   ]
  },
  {
   "cell_type": "code",
   "execution_count": 96,
   "metadata": {},
   "outputs": [
    {
     "data": {
      "text/plain": [
       "pandas.core.frame.DataFrame"
      ]
     },
     "execution_count": 96,
     "metadata": {},
     "output_type": "execute_result"
    }
   ],
   "source": [
    "type(df_copy)"
   ]
  },
  {
   "cell_type": "code",
   "execution_count": 97,
   "metadata": {},
   "outputs": [],
   "source": [
    "for i in range(len(df_copy)):\n",
    "    for j in range(len(df_copy.columns)):\n",
    "        df_copy.iloc[i,j]=max(abs(df_R.iloc[i,j]),abs(df_L.iloc[i,j]))/min(abs(df_R.iloc[i,j]),abs(df_L.iloc[i,j]))"
   ]
  },
  {
   "cell_type": "code",
   "execution_count": 98,
   "metadata": {},
   "outputs": [
    {
     "data": {
      "text/plain": [
       "1.2231784841075795"
      ]
     },
     "execution_count": 98,
     "metadata": {},
     "output_type": "execute_result"
    }
   ],
   "source": [
    "# max([df_R.iloc[0.0],df_L.iloc[0,0]])\n",
    "# df_L.iloc[0,0]\n",
    "# x = [30, 20, 10, 40]\n",
    "# max(x)\n",
    "df_R.iloc[0,0] \n",
    "# df_L.iloc[0,0]"
   ]
  },
  {
   "cell_type": "code",
   "execution_count": 99,
   "metadata": {},
   "outputs": [
    {
     "data": {
      "text/html": [
       "<div>\n",
       "<style scoped>\n",
       "    .dataframe tbody tr th:only-of-type {\n",
       "        vertical-align: middle;\n",
       "    }\n",
       "\n",
       "    .dataframe tbody tr th {\n",
       "        vertical-align: top;\n",
       "    }\n",
       "\n",
       "    .dataframe thead th {\n",
       "        text-align: right;\n",
       "    }\n",
       "</style>\n",
       "<table border=\"1\" class=\"dataframe\">\n",
       "  <thead>\n",
       "    <tr style=\"text-align: right;\">\n",
       "      <th></th>\n",
       "      <th>000</th>\n",
       "      <th>005</th>\n",
       "      <th>010</th>\n",
       "      <th>015</th>\n",
       "      <th>020</th>\n",
       "      <th>025</th>\n",
       "      <th>030</th>\n",
       "      <th>035</th>\n",
       "      <th>040</th>\n",
       "      <th>045</th>\n",
       "      <th>...</th>\n",
       "      <th>310</th>\n",
       "      <th>315</th>\n",
       "      <th>320</th>\n",
       "      <th>325</th>\n",
       "      <th>330</th>\n",
       "      <th>335</th>\n",
       "      <th>340</th>\n",
       "      <th>345</th>\n",
       "      <th>350</th>\n",
       "      <th>355</th>\n",
       "    </tr>\n",
       "  </thead>\n",
       "  <tbody>\n",
       "    <tr>\n",
       "      <th>-10</th>\n",
       "      <td>1.223178</td>\n",
       "      <td>1.050555</td>\n",
       "      <td>1.282639</td>\n",
       "      <td>1.487566</td>\n",
       "      <td>1.643628</td>\n",
       "      <td>1.904775</td>\n",
       "      <td>2.263807</td>\n",
       "      <td>2.740046</td>\n",
       "      <td>3.205850</td>\n",
       "      <td>4.091891</td>\n",
       "      <td>...</td>\n",
       "      <td>5.057812</td>\n",
       "      <td>4.291130</td>\n",
       "      <td>3.647098</td>\n",
       "      <td>3.352965</td>\n",
       "      <td>3.044381</td>\n",
       "      <td>2.647994</td>\n",
       "      <td>2.224265</td>\n",
       "      <td>1.685661</td>\n",
       "      <td>1.448801</td>\n",
       "      <td>1.366684</td>\n",
       "    </tr>\n",
       "    <tr>\n",
       "      <th>0</th>\n",
       "      <td>1.102511</td>\n",
       "      <td>1.287583</td>\n",
       "      <td>1.506078</td>\n",
       "      <td>1.707825</td>\n",
       "      <td>2.063949</td>\n",
       "      <td>2.413471</td>\n",
       "      <td>2.722163</td>\n",
       "      <td>3.133116</td>\n",
       "      <td>3.616817</td>\n",
       "      <td>3.888940</td>\n",
       "      <td>...</td>\n",
       "      <td>5.199437</td>\n",
       "      <td>4.401164</td>\n",
       "      <td>3.347946</td>\n",
       "      <td>2.569268</td>\n",
       "      <td>2.395750</td>\n",
       "      <td>2.181064</td>\n",
       "      <td>1.918324</td>\n",
       "      <td>1.684342</td>\n",
       "      <td>1.399400</td>\n",
       "      <td>1.137042</td>\n",
       "    </tr>\n",
       "    <tr>\n",
       "      <th>10</th>\n",
       "      <td>1.166467</td>\n",
       "      <td>1.362417</td>\n",
       "      <td>1.759950</td>\n",
       "      <td>2.150547</td>\n",
       "      <td>2.654177</td>\n",
       "      <td>3.117525</td>\n",
       "      <td>3.327869</td>\n",
       "      <td>3.414243</td>\n",
       "      <td>3.906085</td>\n",
       "      <td>4.381082</td>\n",
       "      <td>...</td>\n",
       "      <td>3.698040</td>\n",
       "      <td>4.016860</td>\n",
       "      <td>3.623861</td>\n",
       "      <td>2.800821</td>\n",
       "      <td>2.356741</td>\n",
       "      <td>2.148629</td>\n",
       "      <td>1.844539</td>\n",
       "      <td>1.557524</td>\n",
       "      <td>1.281263</td>\n",
       "      <td>1.053742</td>\n",
       "    </tr>\n",
       "    <tr>\n",
       "      <th>20</th>\n",
       "      <td>1.089403</td>\n",
       "      <td>1.364834</td>\n",
       "      <td>1.647703</td>\n",
       "      <td>1.943942</td>\n",
       "      <td>2.357861</td>\n",
       "      <td>2.611216</td>\n",
       "      <td>3.219362</td>\n",
       "      <td>3.621974</td>\n",
       "      <td>3.583810</td>\n",
       "      <td>3.980689</td>\n",
       "      <td>...</td>\n",
       "      <td>3.701440</td>\n",
       "      <td>3.022509</td>\n",
       "      <td>3.208851</td>\n",
       "      <td>2.927061</td>\n",
       "      <td>2.283143</td>\n",
       "      <td>2.114409</td>\n",
       "      <td>1.894078</td>\n",
       "      <td>1.570519</td>\n",
       "      <td>1.291879</td>\n",
       "      <td>1.003673</td>\n",
       "    </tr>\n",
       "  </tbody>\n",
       "</table>\n",
       "<p>4 rows × 72 columns</p>\n",
       "</div>"
      ],
      "text/plain": [
       "          000       005       010       015       020       025       030  \\\n",
       "-10  1.223178  1.050555  1.282639  1.487566  1.643628  1.904775  2.263807   \n",
       " 0   1.102511  1.287583  1.506078  1.707825  2.063949  2.413471  2.722163   \n",
       " 10  1.166467  1.362417  1.759950  2.150547  2.654177  3.117525  3.327869   \n",
       " 20  1.089403  1.364834  1.647703  1.943942  2.357861  2.611216  3.219362   \n",
       "\n",
       "          035       040       045    ...          310       315       320  \\\n",
       "-10  2.740046  3.205850  4.091891    ...     5.057812  4.291130  3.647098   \n",
       " 0   3.133116  3.616817  3.888940    ...     5.199437  4.401164  3.347946   \n",
       " 10  3.414243  3.906085  4.381082    ...     3.698040  4.016860  3.623861   \n",
       " 20  3.621974  3.583810  3.980689    ...     3.701440  3.022509  3.208851   \n",
       "\n",
       "          325       330       335       340       345       350       355  \n",
       "-10  3.352965  3.044381  2.647994  2.224265  1.685661  1.448801  1.366684  \n",
       " 0   2.569268  2.395750  2.181064  1.918324  1.684342  1.399400  1.137042  \n",
       " 10  2.800821  2.356741  2.148629  1.844539  1.557524  1.281263  1.053742  \n",
       " 20  2.927061  2.283143  2.114409  1.894078  1.570519  1.291879  1.003673  \n",
       "\n",
       "[4 rows x 72 columns]"
      ]
     },
     "execution_count": 99,
     "metadata": {},
     "output_type": "execute_result"
    }
   ],
   "source": [
    "df_copy"
   ]
  },
  {
   "cell_type": "code",
   "execution_count": 100,
   "metadata": {},
   "outputs": [],
   "source": [
    "# 必要なライブラリのインポート\n",
    "import numpy as np\n",
    "import pandas as pd\n",
    "import matplotlib.pyplot as plt\n",
    "%matplotlib inline\n",
    "\n",
    "# 不要な警告を非表示にする\n",
    "import warnings\n",
    "warnings.filterwarnings('ignore')"
   ]
  },
  {
   "cell_type": "code",
   "execution_count": 101,
   "metadata": {
    "scrolled": true
   },
   "outputs": [],
   "source": [
    "y=df_copy.iloc[1,0:int(len(df_copy.columns)/2)+1]\n",
    "x=np.array([int(n) for n in list(df_copy.columns[0:(int(len(df_copy.columns)/2)+1)])]).reshape(-1, 1)\n",
    "y=np.array(list(y))"
   ]
  },
  {
   "cell_type": "code",
   "execution_count": 102,
   "metadata": {},
   "outputs": [
    {
     "data": {
      "text/plain": [
       "True"
      ]
     },
     "execution_count": 102,
     "metadata": {},
     "output_type": "execute_result"
    }
   ],
   "source": [
    "len(y)==len(x)"
   ]
  },
  {
   "cell_type": "code",
   "execution_count": 103,
   "metadata": {},
   "outputs": [
    {
     "data": {
      "text/html": [
       "<div>\n",
       "<style scoped>\n",
       "    .dataframe tbody tr th:only-of-type {\n",
       "        vertical-align: middle;\n",
       "    }\n",
       "\n",
       "    .dataframe tbody tr th {\n",
       "        vertical-align: top;\n",
       "    }\n",
       "\n",
       "    .dataframe thead th {\n",
       "        text-align: right;\n",
       "    }\n",
       "</style>\n",
       "<table border=\"1\" class=\"dataframe\">\n",
       "  <thead>\n",
       "    <tr style=\"text-align: right;\">\n",
       "      <th></th>\n",
       "      <th>000</th>\n",
       "      <th>005</th>\n",
       "      <th>010</th>\n",
       "      <th>015</th>\n",
       "      <th>020</th>\n",
       "      <th>025</th>\n",
       "      <th>030</th>\n",
       "      <th>035</th>\n",
       "      <th>040</th>\n",
       "      <th>045</th>\n",
       "      <th>...</th>\n",
       "      <th>310</th>\n",
       "      <th>315</th>\n",
       "      <th>320</th>\n",
       "      <th>325</th>\n",
       "      <th>330</th>\n",
       "      <th>335</th>\n",
       "      <th>340</th>\n",
       "      <th>345</th>\n",
       "      <th>350</th>\n",
       "      <th>355</th>\n",
       "    </tr>\n",
       "  </thead>\n",
       "  <tbody>\n",
       "    <tr>\n",
       "      <th>-10</th>\n",
       "      <td>1.223178</td>\n",
       "      <td>1.050555</td>\n",
       "      <td>1.282639</td>\n",
       "      <td>1.487566</td>\n",
       "      <td>1.643628</td>\n",
       "      <td>1.904775</td>\n",
       "      <td>2.263807</td>\n",
       "      <td>2.740046</td>\n",
       "      <td>3.205850</td>\n",
       "      <td>4.091891</td>\n",
       "      <td>...</td>\n",
       "      <td>5.057812</td>\n",
       "      <td>4.291130</td>\n",
       "      <td>3.647098</td>\n",
       "      <td>3.352965</td>\n",
       "      <td>3.044381</td>\n",
       "      <td>2.647994</td>\n",
       "      <td>2.224265</td>\n",
       "      <td>1.685661</td>\n",
       "      <td>1.448801</td>\n",
       "      <td>1.366684</td>\n",
       "    </tr>\n",
       "    <tr>\n",
       "      <th>0</th>\n",
       "      <td>1.102511</td>\n",
       "      <td>1.287583</td>\n",
       "      <td>1.506078</td>\n",
       "      <td>1.707825</td>\n",
       "      <td>2.063949</td>\n",
       "      <td>2.413471</td>\n",
       "      <td>2.722163</td>\n",
       "      <td>3.133116</td>\n",
       "      <td>3.616817</td>\n",
       "      <td>3.888940</td>\n",
       "      <td>...</td>\n",
       "      <td>5.199437</td>\n",
       "      <td>4.401164</td>\n",
       "      <td>3.347946</td>\n",
       "      <td>2.569268</td>\n",
       "      <td>2.395750</td>\n",
       "      <td>2.181064</td>\n",
       "      <td>1.918324</td>\n",
       "      <td>1.684342</td>\n",
       "      <td>1.399400</td>\n",
       "      <td>1.137042</td>\n",
       "    </tr>\n",
       "    <tr>\n",
       "      <th>10</th>\n",
       "      <td>1.166467</td>\n",
       "      <td>1.362417</td>\n",
       "      <td>1.759950</td>\n",
       "      <td>2.150547</td>\n",
       "      <td>2.654177</td>\n",
       "      <td>3.117525</td>\n",
       "      <td>3.327869</td>\n",
       "      <td>3.414243</td>\n",
       "      <td>3.906085</td>\n",
       "      <td>4.381082</td>\n",
       "      <td>...</td>\n",
       "      <td>3.698040</td>\n",
       "      <td>4.016860</td>\n",
       "      <td>3.623861</td>\n",
       "      <td>2.800821</td>\n",
       "      <td>2.356741</td>\n",
       "      <td>2.148629</td>\n",
       "      <td>1.844539</td>\n",
       "      <td>1.557524</td>\n",
       "      <td>1.281263</td>\n",
       "      <td>1.053742</td>\n",
       "    </tr>\n",
       "    <tr>\n",
       "      <th>20</th>\n",
       "      <td>1.089403</td>\n",
       "      <td>1.364834</td>\n",
       "      <td>1.647703</td>\n",
       "      <td>1.943942</td>\n",
       "      <td>2.357861</td>\n",
       "      <td>2.611216</td>\n",
       "      <td>3.219362</td>\n",
       "      <td>3.621974</td>\n",
       "      <td>3.583810</td>\n",
       "      <td>3.980689</td>\n",
       "      <td>...</td>\n",
       "      <td>3.701440</td>\n",
       "      <td>3.022509</td>\n",
       "      <td>3.208851</td>\n",
       "      <td>2.927061</td>\n",
       "      <td>2.283143</td>\n",
       "      <td>2.114409</td>\n",
       "      <td>1.894078</td>\n",
       "      <td>1.570519</td>\n",
       "      <td>1.291879</td>\n",
       "      <td>1.003673</td>\n",
       "    </tr>\n",
       "  </tbody>\n",
       "</table>\n",
       "<p>4 rows × 72 columns</p>\n",
       "</div>"
      ],
      "text/plain": [
       "          000       005       010       015       020       025       030  \\\n",
       "-10  1.223178  1.050555  1.282639  1.487566  1.643628  1.904775  2.263807   \n",
       " 0   1.102511  1.287583  1.506078  1.707825  2.063949  2.413471  2.722163   \n",
       " 10  1.166467  1.362417  1.759950  2.150547  2.654177  3.117525  3.327869   \n",
       " 20  1.089403  1.364834  1.647703  1.943942  2.357861  2.611216  3.219362   \n",
       "\n",
       "          035       040       045    ...          310       315       320  \\\n",
       "-10  2.740046  3.205850  4.091891    ...     5.057812  4.291130  3.647098   \n",
       " 0   3.133116  3.616817  3.888940    ...     5.199437  4.401164  3.347946   \n",
       " 10  3.414243  3.906085  4.381082    ...     3.698040  4.016860  3.623861   \n",
       " 20  3.621974  3.583810  3.980689    ...     3.701440  3.022509  3.208851   \n",
       "\n",
       "          325       330       335       340       345       350       355  \n",
       "-10  3.352965  3.044381  2.647994  2.224265  1.685661  1.448801  1.366684  \n",
       " 0   2.569268  2.395750  2.181064  1.918324  1.684342  1.399400  1.137042  \n",
       " 10  2.800821  2.356741  2.148629  1.844539  1.557524  1.281263  1.053742  \n",
       " 20  2.927061  2.283143  2.114409  1.894078  1.570519  1.291879  1.003673  \n",
       "\n",
       "[4 rows x 72 columns]"
      ]
     },
     "execution_count": 103,
     "metadata": {},
     "output_type": "execute_result"
    }
   ],
   "source": [
    "df_copy"
   ]
  },
  {
   "cell_type": "code",
   "execution_count": 104,
   "metadata": {},
   "outputs": [
    {
     "data": {
      "text/plain": [
       "LinearRegression(copy_X=True, fit_intercept=True, n_jobs=1, normalize=False)"
      ]
     },
     "execution_count": 104,
     "metadata": {},
     "output_type": "execute_result"
    }
   ],
   "source": [
    "# 線形回帰のクラス\n",
    "from sklearn.linear_model import LinearRegression\n",
    "# 多項式変換のクラス\n",
    "from sklearn.preprocessing import PolynomialFeatures\n",
    "\n",
    "# 線形回帰のインスタンスを生成\n",
    "lr = LinearRegression()\n",
    "# 7次関数用に特徴量を変換するインスタンスを生成\n",
    "pol = PolynomialFeatures(degree=2)\n",
    "# Xを7次関数用に変換\n",
    "X_pol = pol.fit_transform(x)\n",
    "# 変換したデータを学習させる\n",
    "lr.fit(X_pol, y)\n"
   ]
  },
  {
   "cell_type": "code",
   "execution_count": 105,
   "metadata": {},
   "outputs": [
    {
     "data": {
      "text/plain": [
       "[<matplotlib.lines.Line2D at 0x1d05c7951d0>]"
      ]
     },
     "execution_count": 105,
     "metadata": {},
     "output_type": "execute_result"
    },
    {
     "data": {
      "image/png": "[encoded data removed]",
      "text/plain": [
       "<Figure size 432x288 with 1 Axes>"
      ]
     },
     "metadata": {
      "needs_background": "light"
     },
     "output_type": "display_data"
    }
   ],
   "source": [
    "# -25~+25の範囲に､0.1刻みでデータ点を取る\n",
    "X_plot = np.arange(0, 180, 5)\n",
    "# # 対応するyを三次関数で指定\n",
    "# y_plot = cubic(X_plot)\n",
    "# sklearnで扱えるように､一列のベクトルに変換\n",
    "X_plot = X_plot.reshape(-1, 1)\n",
    "X_plot_pol = pol.fit_transform(X_plot)\n",
    "# プロット用のデータのyを予測\n",
    "y_plot_pol = lr.predict(X_plot_pol)\n",
    "# plt.plot(X_plot, y_plot, color='gray')\n",
    "# Ridge回帰によるモデルを描画\n",
    "# plt.plot(X_plot, model_ridge.predict(X_plot_pol), color='red')\n",
    "# 通常の多項式回帰のモデルを描画\n",
    "plt.plot(X_plot, y_plot_pol, color='green')"
   ]
  },
  {
   "cell_type": "code",
   "execution_count": 106,
   "metadata": {},
   "outputs": [
    {
     "data": {
      "text/plain": [
       "<matplotlib.collections.PathCollection at 0x1d05c7ee400>"
      ]
     },
     "execution_count": 106,
     "metadata": {},
     "output_type": "execute_result"
    },
    {
     "data": {
      "image/png": "[encoded data removed]",
      "text/plain": [
       "<Figure size 432x288 with 1 Axes>"
      ]
     },
     "metadata": {
      "needs_background": "light"
     },
     "output_type": "display_data"
    }
   ],
   "source": [
    "# データ点をプロット\n",
    "plt.scatter(x, y)"
   ]
  },
  {
   "cell_type": "code",
   "execution_count": 108,
   "metadata": {},
   "outputs": [
    {
     "name": "stdout",
     "output_type": "stream",
     "text": [
      "coefficient =  [ 0.          0.0995115  -0.00059801]\n",
      "intercept =  0.8690639323155622\n"
     ]
    }
   ],
   "source": [
    "print('coefficient = ', lr.coef_) # 説明変数の係数を出力\n",
    "print('intercept = ', lr.intercept_) # 切片を出力"
   ]
  },
  {
   "cell_type": "code",
   "execution_count": null,
   "metadata": {},
   "outputs": [],
   "source": []
  },
  {
   "cell_type": "code",
   "execution_count": null,
   "metadata": {},
   "outputs": [],
   "source": []
  }
 ],
 "metadata": {
  "kernelspec": {
   "display_name": "Python 3",
   "language": "python",
   "name": "python3"
  },
  "language_info": {
   "codemirror_mode": {
    "name": "ipython",
    "version": 3
   },
   "file_extension": ".py",
   "mimetype": "text/x-python",
   "name": "python",
   "nbconvert_exporter": "python",
   "pygments_lexer": "ipython3",
   "version": "3.7.0"
  }
 },
 "nbformat": 4,
 "nbformat_minor": 2
}
