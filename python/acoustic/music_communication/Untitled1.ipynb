{
 "cells": [
  {
   "cell_type": "code",
   "execution_count": 24,
   "metadata": {},
   "outputs": [],
   "source": [
    "from pydub import AudioSegment\n",
    "import numpy as np\n",
    "import pandas as pd\n",
    "import matplotlib.pyplot as plt\n",
    "import seaborn as sns\n",
    "\n",
    "%matplotlib inline"
   ]
  },
  {
   "cell_type": "code",
   "execution_count": 25,
   "metadata": {},
   "outputs": [],
   "source": [
    "sound1 = AudioSegment.from_file(\"ZOOM0007_Tr1.WAV\", \"WAV\")\n",
    "sound2 = AudioSegment.from_file(\"ZOOM0007_Tr3.WAV\", \"WAV\")"
   ]
  },
  {
   "cell_type": "code",
   "execution_count": 26,
   "metadata": {
    "scrolled": true
   },
   "outputs": [
    {
     "data": {
      "image/png": "[encoded data removed]",
      "text/plain": [
       "<Figure size 432x288 with 1 Axes>"
      ]
     },
     "metadata": {
      "needs_background": "light"
     },
     "output_type": "display_data"
    }
   ],
   "source": [
    "# 音声データをリストで抽出\n",
    "list_sound1 = sound1.get_array_of_samples()\n",
    "list_sound2 = sound2.get_array_of_samples()\n",
    "\n",
    "# リストをグラフ化\n",
    "plt.plot(list_sound1)\n",
    "plt.plot(list_sound2)\n",
    "plt.grid()\n",
    "plt.show()"
   ]
  },
  {
   "cell_type": "code",
   "execution_count": 27,
   "metadata": {},
   "outputs": [],
   "source": [
    "num=100"
   ]
  },
  {
   "cell_type": "code",
   "execution_count": 28,
   "metadata": {},
   "outputs": [],
   "source": [
    "sound_array1=np.zeros(num)\n",
    "sound_array2=np.zeros(num)"
   ]
  },
  {
   "cell_type": "code",
   "execution_count": null,
   "metadata": {},
   "outputs": [],
   "source": []
  },
  {
   "cell_type": "code",
   "execution_count": 29,
   "metadata": {},
   "outputs": [],
   "source": [
    "for i in range(num):\n",
    "    sound_array1[i]=max((list_sound1[int(len(list_sound1)/num)*i:int(len(list_sound1)/num)*(i+1)]))\n",
    "    sound_array2[i]=max((list_sound2[int(len(list_sound2)/num)*i:int(len(list_sound2)/num)*(i+1)]))"
   ]
  },
  {
   "cell_type": "code",
   "execution_count": 30,
   "metadata": {},
   "outputs": [],
   "source": [
    "df1=pd.DataFrame(sound_array1)\n",
    "df2=pd.DataFrame(sound_array2)"
   ]
  },
  {
   "cell_type": "code",
   "execution_count": 31,
   "metadata": {},
   "outputs": [],
   "source": [
    "df=pd.concat([df1,df2],axis=1)"
   ]
  },
  {
   "cell_type": "code",
   "execution_count": 32,
   "metadata": {},
   "outputs": [],
   "source": [
    "# df=df.reset_index(drop=True)"
   ]
  },
  {
   "cell_type": "code",
   "execution_count": 33,
   "metadata": {},
   "outputs": [],
   "source": [
    "df.columns=[0,1]"
   ]
  },
  {
   "cell_type": "code",
   "execution_count": 45,
   "metadata": {},
   "outputs": [
    {
     "data": {
      "text/plain": [
       "<pandas.plotting._core.FramePlotMethods object at 0x00000219C12C9E10>"
      ]
     },
     "execution_count": 45,
     "metadata": {},
     "output_type": "execute_result"
    }
   ],
   "source": [
    "df.T.plot"
   ]
  },
  {
   "cell_type": "code",
   "execution_count": 35,
   "metadata": {},
   "outputs": [],
   "source": [
    "df_new=df.T"
   ]
  },
  {
   "cell_type": "code",
   "execution_count": 36,
   "metadata": {},
   "outputs": [
    {
     "data": {
      "text/html": [
       "<div>\n",
       "<style scoped>\n",
       "    .dataframe tbody tr th:only-of-type {\n",
       "        vertical-align: middle;\n",
       "    }\n",
       "\n",
       "    .dataframe tbody tr th {\n",
       "        vertical-align: top;\n",
       "    }\n",
       "\n",
       "    .dataframe thead th {\n",
       "        text-align: right;\n",
       "    }\n",
       "</style>\n",
       "<table border=\"1\" class=\"dataframe\">\n",
       "  <thead>\n",
       "    <tr style=\"text-align: right;\">\n",
       "      <th></th>\n",
       "      <th>0</th>\n",
       "      <th>1</th>\n",
       "      <th>2</th>\n",
       "      <th>3</th>\n",
       "      <th>4</th>\n",
       "      <th>5</th>\n",
       "      <th>6</th>\n",
       "      <th>7</th>\n",
       "      <th>8</th>\n",
       "      <th>9</th>\n",
       "      <th>...</th>\n",
       "      <th>90</th>\n",
       "      <th>91</th>\n",
       "      <th>92</th>\n",
       "      <th>93</th>\n",
       "      <th>94</th>\n",
       "      <th>95</th>\n",
       "      <th>96</th>\n",
       "      <th>97</th>\n",
       "      <th>98</th>\n",
       "      <th>99</th>\n",
       "    </tr>\n",
       "  </thead>\n",
       "  <tbody>\n",
       "    <tr>\n",
       "      <th>0</th>\n",
       "      <td>2594.0</td>\n",
       "      <td>3183.0</td>\n",
       "      <td>1373.0</td>\n",
       "      <td>1828.0</td>\n",
       "      <td>2022.0</td>\n",
       "      <td>1189.0</td>\n",
       "      <td>1116.0</td>\n",
       "      <td>947.0</td>\n",
       "      <td>1016.0</td>\n",
       "      <td>1046.0</td>\n",
       "      <td>...</td>\n",
       "      <td>1757.0</td>\n",
       "      <td>1411.0</td>\n",
       "      <td>3024.0</td>\n",
       "      <td>1911.0</td>\n",
       "      <td>1627.0</td>\n",
       "      <td>1653.0</td>\n",
       "      <td>3661.0</td>\n",
       "      <td>1351.0</td>\n",
       "      <td>2054.0</td>\n",
       "      <td>1159.0</td>\n",
       "    </tr>\n",
       "    <tr>\n",
       "      <th>1</th>\n",
       "      <td>1332.0</td>\n",
       "      <td>1202.0</td>\n",
       "      <td>1253.0</td>\n",
       "      <td>2154.0</td>\n",
       "      <td>2606.0</td>\n",
       "      <td>1164.0</td>\n",
       "      <td>1024.0</td>\n",
       "      <td>1019.0</td>\n",
       "      <td>1188.0</td>\n",
       "      <td>1174.0</td>\n",
       "      <td>...</td>\n",
       "      <td>1683.0</td>\n",
       "      <td>1337.0</td>\n",
       "      <td>2780.0</td>\n",
       "      <td>1717.0</td>\n",
       "      <td>1626.0</td>\n",
       "      <td>2547.0</td>\n",
       "      <td>2111.0</td>\n",
       "      <td>966.0</td>\n",
       "      <td>930.0</td>\n",
       "      <td>2390.0</td>\n",
       "    </tr>\n",
       "  </tbody>\n",
       "</table>\n",
       "<p>2 rows × 100 columns</p>\n",
       "</div>"
      ],
      "text/plain": [
       "       0       1       2       3       4       5       6       7       8   \\\n",
       "0  2594.0  3183.0  1373.0  1828.0  2022.0  1189.0  1116.0   947.0  1016.0   \n",
       "1  1332.0  1202.0  1253.0  2154.0  2606.0  1164.0  1024.0  1019.0  1188.0   \n",
       "\n",
       "       9    ...        90      91      92      93      94      95      96  \\\n",
       "0  1046.0   ...    1757.0  1411.0  3024.0  1911.0  1627.0  1653.0  3661.0   \n",
       "1  1174.0   ...    1683.0  1337.0  2780.0  1717.0  1626.0  2547.0  2111.0   \n",
       "\n",
       "       97      98      99  \n",
       "0  1351.0  2054.0  1159.0  \n",
       "1   966.0   930.0  2390.0  \n",
       "\n",
       "[2 rows x 100 columns]"
      ]
     },
     "execution_count": 36,
     "metadata": {},
     "output_type": "execute_result"
    }
   ],
   "source": [
    "df_new"
   ]
  },
  {
   "cell_type": "code",
   "execution_count": 37,
   "metadata": {},
   "outputs": [],
   "source": [
    "df_judge=pd.DataFrame(np.zeros(len(df_new.columns))).T"
   ]
  },
  {
   "cell_type": "code",
   "execution_count": 38,
   "metadata": {},
   "outputs": [],
   "source": [
    "for i in range(len(df_new.columns)):\n",
    "    df_judge.iloc[0,i]=(df_new.iloc[0,i]-df_new.iloc[1,i])/min(df_new.iloc[0,i],df_new.iloc[1,i])       "
   ]
  },
  {
   "cell_type": "code",
   "execution_count": 41,
   "metadata": {},
   "outputs": [],
   "source": [
    "df_judge.to_csv(\"data_judge.csv\")"
   ]
  },
  {
   "cell_type": "code",
   "execution_count": 43,
   "metadata": {},
   "outputs": [],
   "source": [
    "# df_new.to_csv(\"data_siritori.csv\")"
   ]
  },
  {
   "cell_type": "code",
   "execution_count": null,
   "metadata": {},
   "outputs": [],
   "source": []
  },
  {
   "cell_type": "code",
   "execution_count": null,
   "metadata": {},
   "outputs": [],
   "source": []
  }
 ],
 "metadata": {
  "kernelspec": {
   "display_name": "Python 3",
   "language": "python",
   "name": "python3"
  },
  "language_info": {
   "codemirror_mode": {
    "name": "ipython",
    "version": 3
   },
   "file_extension": ".py",
   "mimetype": "text/x-python",
   "name": "python",
   "nbconvert_exporter": "python",
   "pygments_lexer": "ipython3",
   "version": "3.7.0"
  }
 },
 "nbformat": 4,
 "nbformat_minor": 2
}
