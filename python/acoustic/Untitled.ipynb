{
 "cells": [
  {
   "cell_type": "code",
   "execution_count": 166,
   "metadata": {},
   "outputs": [],
   "source": [
    "import numpy as np"
   ]
  },
  {
   "cell_type": "code",
   "execution_count": 167,
   "metadata": {},
   "outputs": [],
   "source": [
    "input = \"RBBRRBBBRBB\""
   ]
  },
  {
   "cell_type": "code",
   "execution_count": 168,
   "metadata": {},
   "outputs": [],
   "source": [
    "M=[[[0.6,0.4,0.6,0.4],[0.5,0.5,0.7,0.3],[0.8,0.2,0.5,0.5]],[[0.6,0.4,0.6,0.4],[0.5,0.5,0.7,0.3],[0.8,0.2,0.5,0.5]]]\n",
    "# [\"R\",\"B\",\"戻る\",\"つぎへ\"]\n"
   ]
  },
  {
   "cell_type": "code",
   "execution_count": 169,
   "metadata": {},
   "outputs": [],
   "source": [
    "# len(M[0])"
   ]
  },
  {
   "cell_type": "code",
   "execution_count": 170,
   "metadata": {},
   "outputs": [],
   "source": [
    "n=len(input)\n",
    "k=len(M[0])"
   ]
  },
  {
   "cell_type": "code",
   "execution_count": 171,
   "metadata": {
    "scrolled": true
   },
   "outputs": [],
   "source": [
    "# m=[]\n",
    "# p=[]\n",
    "# for i in range(1,n-k+2):\n",
    "#     s1=input[0:i]\n",
    "#     s2=input[i:n-k+2]\n",
    "   \n",
    "# #     p_s1=(M[0][0]**(s1.count('R')))*(M[0][1]**(s1.count('B')))*(M[0][2]**(len(s1)-1))\n",
    "# #     p_s2=(M[1][0]**(s2.count('R')))*(M[1][1]**(s2.count('B')))*(M[1][2]**(len(s2)-1))\n",
    "# #     p_s=p_s1*p_s2\n",
    "# #     common=M[0][3]*M[1][3]\n",
    "# #     p.append(p_s*common)"
   ]
  },
  {
   "cell_type": "code",
   "execution_count": 172,
   "metadata": {},
   "outputs": [],
   "source": [
    "# print(input[0:1]+input[1:3])\n",
    "# print(input[0:2]+input[2:3])"
   ]
  },
  {
   "cell_type": "code",
   "execution_count": 173,
   "metadata": {},
   "outputs": [],
   "source": [
    "# for s_0 in range(6):\n",
    "# #     x\n",
    "# round(sum(p),5)\n"
   ]
  },
  {
   "cell_type": "code",
   "execution_count": 174,
   "metadata": {},
   "outputs": [],
   "source": [
    "# help(list)\n",
    "# n=7\n",
    "# k=3"
   ]
  },
  {
   "cell_type": "code",
   "execution_count": 175,
   "metadata": {},
   "outputs": [],
   "source": [
    "list=[]"
   ]
  },
  {
   "cell_type": "code",
   "execution_count": 176,
   "metadata": {},
   "outputs": [],
   "source": [
    "for i in range(1,n-k+1):\n",
    "    for j in range(1,n-i-k+2):\n",
    "            list.append([i,j,n-i-j])\n",
    "       "
   ]
  },
  {
   "cell_type": "code",
   "execution_count": null,
   "metadata": {},
   "outputs": [],
   "source": []
  },
  {
   "cell_type": "code",
   "execution_count": 177,
   "metadata": {},
   "outputs": [
    {
     "data": {
      "text/plain": [
       "[1, 1, 9]"
      ]
     },
     "execution_count": 177,
     "metadata": {},
     "output_type": "execute_result"
    }
   ],
   "source": [
    "list[0]"
   ]
  },
  {
   "cell_type": "code",
   "execution_count": 178,
   "metadata": {},
   "outputs": [],
   "source": [
    "# f_break=list[0][0]\n",
    "# s_break=f_break+list[0][1]\n",
    "# t_break=s_break+list[0][2]"
   ]
  },
  {
   "cell_type": "code",
   "execution_count": 179,
   "metadata": {},
   "outputs": [],
   "source": [
    "# print([f_break,s_break,t_break])"
   ]
  },
  {
   "cell_type": "code",
   "execution_count": 180,
   "metadata": {},
   "outputs": [],
   "source": [
    "# area1=input[0:f_break]\n",
    "# area2=input[f_break:s_break]\n",
    "# area3=input[s_break:t_break]"
   ]
  },
  {
   "cell_type": "code",
   "execution_count": 181,
   "metadata": {},
   "outputs": [],
   "source": [
    "# print(area1)\n",
    "# print(area2)\n",
    "# print(area3)"
   ]
  },
  {
   "cell_type": "code",
   "execution_count": 182,
   "metadata": {},
   "outputs": [],
   "source": [
    "# p_area1=(M[0][0]**(area1.count('R')))*(M[0][1]**(area1.count('B')))*(M[0][2]**(len(area1)-1))\n",
    "# p_area2=(M[1][0]**(area2.count('R')))*(M[1][1]**(area2.count('B')))*(M[1][2]**(len(area2)-1))\n",
    "# p_area3=(M[2][0]**(area3.count('R')))*(M[2][1]**(area3.count('B')))*(M[2][2]**(len(area3)-1))"
   ]
  },
  {
   "cell_type": "raw",
   "metadata": {},
   "source": []
  },
  {
   "cell_type": "code",
   "execution_count": null,
   "metadata": {
    "scrolled": true
   },
   "outputs": [],
   "source": []
  },
  {
   "cell_type": "code",
   "execution_count": 183,
   "metadata": {},
   "outputs": [],
   "source": [
    "# import functools\n",
    "# import operator\n",
    "# prod = functools.partial(functools.reduce, operator.mul)"
   ]
  },
  {
   "cell_type": "code",
   "execution_count": 184,
   "metadata": {},
   "outputs": [],
   "source": [
    "# np.prod([p_area1,p_area2,p_area3])\n",
    "    "
   ]
  },
  {
   "cell_type": "code",
   "execution_count": 185,
   "metadata": {},
   "outputs": [],
   "source": [
    "for i in range(1,n-k+1):\n",
    "    for j in range(1,n-i-k+2):\n",
    "            list.append([i,j,n-i-j])"
   ]
  },
  {
   "cell_type": "code",
   "execution_count": 186,
   "metadata": {},
   "outputs": [
    {
     "data": {
      "text/plain": [
       "[[1, 1, 9],\n",
       " [1, 2, 8],\n",
       " [1, 3, 7],\n",
       " [1, 4, 6],\n",
       " [1, 5, 5],\n",
       " [1, 6, 4],\n",
       " [1, 7, 3],\n",
       " [1, 8, 2],\n",
       " [2, 1, 8],\n",
       " [2, 2, 7],\n",
       " [2, 3, 6],\n",
       " [2, 4, 5],\n",
       " [2, 5, 4],\n",
       " [2, 6, 3],\n",
       " [2, 7, 2],\n",
       " [3, 1, 7],\n",
       " [3, 2, 6],\n",
       " [3, 3, 5],\n",
       " [3, 4, 4],\n",
       " [3, 5, 3],\n",
       " [3, 6, 2],\n",
       " [4, 1, 6],\n",
       " [4, 2, 5],\n",
       " [4, 3, 4],\n",
       " [4, 4, 3],\n",
       " [4, 5, 2],\n",
       " [5, 1, 5],\n",
       " [5, 2, 4],\n",
       " [5, 3, 3],\n",
       " [5, 4, 2],\n",
       " [6, 1, 4],\n",
       " [6, 2, 3],\n",
       " [6, 3, 2],\n",
       " [7, 1, 3],\n",
       " [7, 2, 2],\n",
       " [8, 1, 2],\n",
       " [1, 1, 9],\n",
       " [1, 2, 8],\n",
       " [1, 3, 7],\n",
       " [1, 4, 6],\n",
       " [1, 5, 5],\n",
       " [1, 6, 4],\n",
       " [1, 7, 3],\n",
       " [1, 8, 2],\n",
       " [2, 1, 8],\n",
       " [2, 2, 7],\n",
       " [2, 3, 6],\n",
       " [2, 4, 5],\n",
       " [2, 5, 4],\n",
       " [2, 6, 3],\n",
       " [2, 7, 2],\n",
       " [3, 1, 7],\n",
       " [3, 2, 6],\n",
       " [3, 3, 5],\n",
       " [3, 4, 4],\n",
       " [3, 5, 3],\n",
       " [3, 6, 2],\n",
       " [4, 1, 6],\n",
       " [4, 2, 5],\n",
       " [4, 3, 4],\n",
       " [4, 4, 3],\n",
       " [4, 5, 2],\n",
       " [5, 1, 5],\n",
       " [5, 2, 4],\n",
       " [5, 3, 3],\n",
       " [5, 4, 2],\n",
       " [6, 1, 4],\n",
       " [6, 2, 3],\n",
       " [6, 3, 2],\n",
       " [7, 1, 3],\n",
       " [7, 2, 2],\n",
       " [8, 1, 2]]"
      ]
     },
     "execution_count": 186,
     "metadata": {},
     "output_type": "execute_result"
    }
   ],
   "source": [
    "list"
   ]
  },
  {
   "cell_type": "code",
   "execution_count": 187,
   "metadata": {},
   "outputs": [],
   "source": [
    "import functools\n",
    "import operator\n",
    "prod = functools.partial(functools.reduce, operator.mul)\n",
    "\n",
    "mp=[]\n",
    "for m_num in range(len(M)):\n",
    "    common=M[m_num][0][3]*M[m_num][1][3]*M[m_num][2][3]\n",
    "    p=[]\n",
    "    for i in range(len(list)):\n",
    "        f_break=list[i][0]\n",
    "        s_break=f_break+list[i][1]\n",
    "        t_break=s_break+list[i][2]\n",
    "        \n",
    "        area1=input[0:f_break]\n",
    "        area2=input[f_break:s_break]\n",
    "        area3=input[s_break:t_break]\n",
    "        \n",
    "        p_area1=(M[m_num][0][0]**(area1.count('R')))*(M[m_num][0][1]**(area1.count('B')))*(M[m_num][0][2]**(len(area1)-1))\n",
    "        p_area2=(M[m_num][1][0]**(area2.count('R')))*(M[m_num][1][1]**(area2.count('B')))*(M[m_num][1][2]**(len(area2)-1))\n",
    "        p_area3=(M[m_num][2][0]**(area3.count('R')))*(M[m_num][2][1]**(area3.count('B')))*(M[m_num][2][2]**(len(area3)-1))\n",
    "        \n",
    "        p.append(np.prod([p_area1,p_area2,p_area3])*common)        \n",
    "    mp.append(sum(p))"
   ]
  },
  {
   "cell_type": "code",
   "execution_count": 188,
   "metadata": {},
   "outputs": [
    {
     "data": {
      "text/plain": [
       "2"
      ]
     },
     "execution_count": 188,
     "metadata": {},
     "output_type": "execute_result"
    }
   ],
   "source": [
    "len(M)"
   ]
  },
  {
   "cell_type": "code",
   "execution_count": 189,
   "metadata": {},
   "outputs": [
    {
     "data": {
      "text/plain": [
       "[4.5156003291288e-06, 4.5156003291288e-06]"
      ]
     },
     "execution_count": 189,
     "metadata": {},
     "output_type": "execute_result"
    }
   ],
   "source": [
    "mp"
   ]
  },
  {
   "cell_type": "code",
   "execution_count": null,
   "metadata": {},
   "outputs": [],
   "source": []
  },
  {
   "cell_type": "code",
   "execution_count": null,
   "metadata": {},
   "outputs": [],
   "source": []
  },
  {
   "cell_type": "code",
   "execution_count": null,
   "metadata": {},
   "outputs": [],
   "source": []
  },
  {
   "cell_type": "code",
   "execution_count": null,
   "metadata": {},
   "outputs": [],
   "source": []
  },
  {
   "cell_type": "code",
   "execution_count": null,
   "metadata": {},
   "outputs": [],
   "source": []
  },
  {
   "cell_type": "code",
   "execution_count": null,
   "metadata": {},
   "outputs": [],
   "source": []
  },
  {
   "cell_type": "code",
   "execution_count": null,
   "metadata": {},
   "outputs": [],
   "source": []
  },
  {
   "cell_type": "code",
   "execution_count": null,
   "metadata": {},
   "outputs": [],
   "source": []
  },
  {
   "cell_type": "code",
   "execution_count": null,
   "metadata": {},
   "outputs": [],
   "source": []
  }
 ],
 "metadata": {
  "kernelspec": {
   "display_name": "Python 3",
   "language": "python",
   "name": "python3"
  },
  "language_info": {
   "codemirror_mode": {
    "name": "ipython",
    "version": 3
   },
   "file_extension": ".py",
   "mimetype": "text/x-python",
   "name": "python",
   "nbconvert_exporter": "python",
   "pygments_lexer": "ipython3",
   "version": "3.7.0"
  }
 },
 "nbformat": 4,
 "nbformat_minor": 2
}
