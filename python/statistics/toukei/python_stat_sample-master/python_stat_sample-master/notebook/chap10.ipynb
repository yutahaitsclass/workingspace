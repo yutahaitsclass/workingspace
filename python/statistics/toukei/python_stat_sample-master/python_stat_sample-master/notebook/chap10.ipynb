{
 "cells": [
  {
   "cell_type": "markdown",
   "metadata": {},
   "source": [
    "# 統計的推定"
   ]
  },
  {
   "cell_type": "code",
   "execution_count": 1,
   "metadata": {
    "ExecuteTime": {
     "end_time": "2018-08-14T18:04:47.320204Z",
     "start_time": "2018-08-14T18:04:46.813094Z"
    }
   },
   "outputs": [],
   "source": [
    "import numpy as np\n",
    "import pandas as pd\n",
    "import matplotlib.pyplot as plt\n",
    "from scipy import stats\n",
    "\n",
    "%precision 3\n",
    "%matplotlib inline"
   ]
  },
  {
   "cell_type": "code",
   "execution_count": 2,
   "metadata": {
    "ExecuteTime": {
     "end_time": "2018-08-14T18:04:47.327204Z",
     "start_time": "2018-08-14T18:04:47.321803Z"
    }
   },
   "outputs": [],
   "source": [
    "df = pd.read_csv('../data/ch4_scores400.csv')\n",
    "scores = np.array(df['点数'])"
   ]
  },
  {
   "cell_type": "code",
   "execution_count": 3,
   "metadata": {
    "ExecuteTime": {
     "end_time": "2018-08-14T18:04:47.332144Z",
     "start_time": "2018-08-14T18:04:47.328296Z"
    }
   },
   "outputs": [
    {
     "data": {
      "text/plain": [
       "(69.530, 206.669)"
      ]
     },
     "execution_count": 3,
     "metadata": {},
     "output_type": "execute_result"
    }
   ],
   "source": [
    "p_mean = np.mean(scores)\n",
    "p_var = np.var(scores)\n",
    "\n",
    "p_mean, p_var"
   ]
  },
  {
   "cell_type": "code",
   "execution_count": 4,
   "metadata": {
    "ExecuteTime": {
     "end_time": "2018-08-14T18:04:47.534295Z",
     "start_time": "2018-08-14T18:04:47.333230Z"
    }
   },
   "outputs": [
    {
     "data": {
      "image/png": "[encoded data removed]",
      "text/plain": [
       "<Figure size 720x432 with 1 Axes>"
      ]
     },
     "metadata": {},
     "output_type": "display_data"
    }
   ],
   "source": [
    "fig = plt.figure(figsize=(10, 6))\n",
    "ax = fig.add_subplot(111)\n",
    "\n",
    "xs = np.arange(101)\n",
    "rv = stats.norm(p_mean, np.sqrt(p_var))\n",
    "ax.plot(xs, rv.pdf(xs), color='gray')\n",
    "ax.hist(scores, bins=100, range=(0, 100), density=True)\n",
    "\n",
    "plt.show()"
   ]
  },
  {
   "cell_type": "code",
   "execution_count": 5,
   "metadata": {
    "ExecuteTime": {
     "end_time": "2018-08-14T18:04:47.539373Z",
     "start_time": "2018-08-14T18:04:47.535604Z"
    }
   },
   "outputs": [
    {
     "data": {
      "text/plain": [
       "array([49, 60, 72, 86, 52, 61, 77, 91, 80, 56, 69, 67, 90, 56, 75, 79, 60,\n",
       "       79, 68, 81])"
      ]
     },
     "execution_count": 5,
     "metadata": {},
     "output_type": "execute_result"
    }
   ],
   "source": [
    "np.random.seed(0)\n",
    "n = 20\n",
    "sample = np.random.choice(scores, n)\n",
    "sample"
   ]
  },
  {
   "cell_type": "code",
   "execution_count": 6,
   "metadata": {
    "ExecuteTime": {
     "end_time": "2018-08-14T18:04:47.551920Z",
     "start_time": "2018-08-14T18:04:47.540558Z"
    }
   },
   "outputs": [],
   "source": [
    "np.random.seed(1111)\n",
    "n_samples = 10000\n",
    "samples = np.random.choice(scores, (n_samples, n))"
   ]
  },
  {
   "cell_type": "markdown",
   "metadata": {},
   "source": [
    "## 点推定"
   ]
  },
  {
   "cell_type": "markdown",
   "metadata": {},
   "source": [
    "### 母平均の点推定"
   ]
  },
  {
   "cell_type": "code",
   "execution_count": 7,
   "metadata": {
    "ExecuteTime": {
     "end_time": "2018-08-14T18:04:47.556646Z",
     "start_time": "2018-08-14T18:04:47.553222Z"
    }
   },
   "outputs": [
    {
     "name": "stdout",
     "output_type": "stream",
     "text": [
      "1回目の標本平均: 67.000\n",
      "2回目の標本平均: 72.850\n",
      "3回目の標本平均: 69.200\n",
      "4回目の標本平均: 64.450\n",
      "5回目の標本平均: 72.650\n"
     ]
    }
   ],
   "source": [
    "for i in range(5):\n",
    "    s_mean = np.mean(samples[i])\n",
    "    print(f'{i+1}回目の標本平均: {s_mean:.3f}')"
   ]
  },
  {
   "cell_type": "code",
   "execution_count": 8,
   "metadata": {
    "ExecuteTime": {
     "end_time": "2018-08-14T18:04:47.561429Z",
     "start_time": "2018-08-14T18:04:47.558041Z"
    }
   },
   "outputs": [
    {
     "data": {
      "text/plain": [
       "69.538"
      ]
     },
     "execution_count": 8,
     "metadata": {},
     "output_type": "execute_result"
    }
   ],
   "source": [
    "sample_means = np.mean(samples, axis=1)\n",
    "np.mean(sample_means)"
   ]
  },
  {
   "cell_type": "code",
   "execution_count": 9,
   "metadata": {
    "ExecuteTime": {
     "end_time": "2018-08-14T18:04:47.577846Z",
     "start_time": "2018-08-14T18:04:47.562500Z"
    }
   },
   "outputs": [
    {
     "data": {
      "text/plain": [
       "69.543"
      ]
     },
     "execution_count": 9,
     "metadata": {},
     "output_type": "execute_result"
    }
   ],
   "source": [
    "np.mean(np.random.choice(scores, int(1e6)))"
   ]
  },
  {
   "cell_type": "code",
   "execution_count": 10,
   "metadata": {
    "ExecuteTime": {
     "end_time": "2018-08-14T18:04:47.581915Z",
     "start_time": "2018-08-14T18:04:47.579010Z"
    }
   },
   "outputs": [
    {
     "data": {
      "text/plain": [
       "70.400"
      ]
     },
     "execution_count": 10,
     "metadata": {},
     "output_type": "execute_result"
    }
   ],
   "source": [
    "s_mean = np.mean(sample)\n",
    "s_mean"
   ]
  },
  {
   "cell_type": "markdown",
   "metadata": {},
   "source": [
    "### 母分散の点推定"
   ]
  },
  {
   "cell_type": "code",
   "execution_count": 11,
   "metadata": {
    "ExecuteTime": {
     "end_time": "2018-08-14T18:04:47.586398Z",
     "start_time": "2018-08-14T18:04:47.583206Z"
    }
   },
   "outputs": [
    {
     "name": "stdout",
     "output_type": "stream",
     "text": [
      "1回目の標本分散: 116.800\n",
      "2回目の標本分散: 162.928\n",
      "3回目の標本分散: 187.060\n",
      "4回目の標本分散: 149.148\n",
      "5回目の標本分散: 111.528\n"
     ]
    }
   ],
   "source": [
    "for i in range(5):\n",
    "    s_var = np.var(samples[i])\n",
    "    print(f'{i+1}回目の標本分散: {s_var:.3f}')"
   ]
  },
  {
   "cell_type": "code",
   "execution_count": 12,
   "metadata": {
    "ExecuteTime": {
     "end_time": "2018-08-14T18:04:47.593666Z",
     "start_time": "2018-08-14T18:04:47.587634Z"
    }
   },
   "outputs": [
    {
     "data": {
      "text/plain": [
       "196.344"
      ]
     },
     "execution_count": 12,
     "metadata": {},
     "output_type": "execute_result"
    }
   ],
   "source": [
    "sample_vars = np.var(samples, axis=1)\n",
    "np.mean(sample_vars)"
   ]
  },
  {
   "cell_type": "code",
   "execution_count": 13,
   "metadata": {
    "ExecuteTime": {
     "end_time": "2018-08-14T18:04:47.598946Z",
     "start_time": "2018-08-14T18:04:47.594834Z"
    }
   },
   "outputs": [
    {
     "data": {
      "text/plain": [
       "206.678"
      ]
     },
     "execution_count": 13,
     "metadata": {},
     "output_type": "execute_result"
    }
   ],
   "source": [
    "sample_u_vars = np.var(samples, axis=1, ddof=1)\n",
    "np.mean(sample_u_vars)"
   ]
  },
  {
   "cell_type": "code",
   "execution_count": 14,
   "metadata": {
    "ExecuteTime": {
     "end_time": "2018-08-14T18:04:47.619062Z",
     "start_time": "2018-08-14T18:04:47.600152Z"
    }
   },
   "outputs": [
    {
     "data": {
      "text/plain": [
       "207.083"
      ]
     },
     "execution_count": 14,
     "metadata": {},
     "output_type": "execute_result"
    }
   ],
   "source": [
    "np.var(np.random.choice(scores, int(1e6)), ddof=1)"
   ]
  },
  {
   "cell_type": "code",
   "execution_count": 15,
   "metadata": {
    "ExecuteTime": {
     "end_time": "2018-08-14T18:04:47.624323Z",
     "start_time": "2018-08-14T18:04:47.620579Z"
    }
   },
   "outputs": [
    {
     "data": {
      "text/plain": [
       "158.253"
      ]
     },
     "execution_count": 15,
     "metadata": {},
     "output_type": "execute_result"
    }
   ],
   "source": [
    "u_var = np.var(sample, ddof=1)\n",
    "u_var"
   ]
  },
  {
   "cell_type": "markdown",
   "metadata": {},
   "source": [
    "## 区間推定"
   ]
  },
  {
   "cell_type": "markdown",
   "metadata": {},
   "source": [
    "### 正規分布の母平均(分散既知)の区間推定"
   ]
  },
  {
   "cell_type": "code",
   "execution_count": 16,
   "metadata": {
    "ExecuteTime": {
     "end_time": "2018-08-14T18:04:47.634102Z",
     "start_time": "2018-08-14T18:04:47.626189Z"
    }
   },
   "outputs": [
    {
     "data": {
      "text/plain": [
       "(64.100, 76.700)"
      ]
     },
     "execution_count": 16,
     "metadata": {},
     "output_type": "execute_result"
    }
   ],
   "source": [
    "rv = stats.norm()\n",
    "lcl = s_mean - rv.isf(0.025) * np.sqrt(p_var/n)\n",
    "ucl = s_mean - rv.isf(0.975) * np.sqrt(p_var/n)\n",
    "\n",
    "lcl, ucl"
   ]
  },
  {
   "cell_type": "code",
   "execution_count": 17,
   "metadata": {
    "ExecuteTime": {
     "end_time": "2018-08-14T18:04:47.815248Z",
     "start_time": "2018-08-14T18:04:47.637157Z"
    }
   },
   "outputs": [
    {
     "data": {
      "image/png": "[encoded data removed]",
      "text/plain": [
       "<Figure size 720x720 with 1 Axes>"
      ]
     },
     "metadata": {},
     "output_type": "display_data"
    }
   ],
   "source": [
    "fig = plt.figure(figsize=(10, 10))\n",
    "ax = fig.add_subplot(111)\n",
    "\n",
    "rv = stats.norm()\n",
    "n_samples = 20\n",
    "ax.vlines(p_mean, 0, 21)\n",
    "for i in range(n_samples):\n",
    "    sample_ = samples[i]\n",
    "    s_mean_ = np.mean(sample_)\n",
    "    lcl = s_mean_ - rv.isf(0.025) * np.sqrt(p_var/n)\n",
    "    ucl = s_mean_ - rv.isf(0.975) * np.sqrt(p_var/n)\n",
    "    if lcl <= p_mean <= ucl:\n",
    "        ax.scatter(s_mean_, n_samples-i, color='gray')\n",
    "        ax.hlines(n_samples-i, lcl, ucl, color='gray')\n",
    "    else:\n",
    "        ax.scatter(s_mean_, n_samples-i, color='b')\n",
    "        ax.hlines(n_samples-i, lcl, ucl, color='b')\n",
    "ax.set_xticks([p_mean])\n",
    "ax.set_xticklabels(['母平均'])\n",
    "\n",
    "plt.show()"
   ]
  },
  {
   "cell_type": "code",
   "execution_count": 18,
   "metadata": {
    "ExecuteTime": {
     "end_time": "2018-08-14T18:04:49.710540Z",
     "start_time": "2018-08-14T18:04:47.816297Z"
    }
   },
   "outputs": [
    {
     "data": {
      "text/plain": [
       "0.951"
      ]
     },
     "execution_count": 18,
     "metadata": {},
     "output_type": "execute_result"
    }
   ],
   "source": [
    "rv = stats.norm()\n",
    "cnt = 0\n",
    "\n",
    "for sample_ in samples:\n",
    "    s_mean_ = np.mean(sample_)\n",
    "    lcl = s_mean_ - rv.isf(0.025) * np.sqrt(p_var/n)\n",
    "    ucl = s_mean_ - rv.isf(0.975) * np.sqrt(p_var/n)\n",
    "    if lcl <= p_mean <= ucl:\n",
    "        cnt += 1\n",
    "cnt / len(samples)"
   ]
  },
  {
   "cell_type": "markdown",
   "metadata": {},
   "source": [
    "### 正規分布の母分散(平均未知)の区間推定"
   ]
  },
  {
   "cell_type": "code",
   "execution_count": 19,
   "metadata": {
    "ExecuteTime": {
     "end_time": "2018-08-14T18:04:49.714818Z",
     "start_time": "2018-08-14T18:04:49.711859Z"
    }
   },
   "outputs": [
    {
     "data": {
      "text/plain": [
       "array([ 11.303,  15.767,  18.102, ...,  19.435,   9.265,  18.625])"
      ]
     },
     "execution_count": 19,
     "metadata": {},
     "output_type": "execute_result"
    }
   ],
   "source": [
    "sample_y = sample_u_vars * (n-1) / p_var\n",
    "sample_y"
   ]
  },
  {
   "cell_type": "code",
   "execution_count": 20,
   "metadata": {
    "ExecuteTime": {
     "end_time": "2018-08-14T18:04:49.879900Z",
     "start_time": "2018-08-14T18:04:49.715894Z"
    }
   },
   "outputs": [
    {
     "data": {
      "image/png": "[encoded data removed]",
      "text/plain": [
       "<Figure size 720x432 with 1 Axes>"
      ]
     },
     "metadata": {},
     "output_type": "display_data"
    }
   ],
   "source": [
    "fig = plt.figure(figsize=(10, 6))\n",
    "ax = fig.add_subplot(111)\n",
    "\n",
    "xs = np.linspace(0, 40, 100)\n",
    "rv = stats.chi2(df=n-1)\n",
    "ax.plot(xs, rv.pdf(xs), color='gray')\n",
    "hist, _, _ = ax.hist(sample_y, bins=100,\n",
    "                     range=(0, 40), density=True)\n",
    "\n",
    "plt.show()"
   ]
  },
  {
   "cell_type": "code",
   "execution_count": 21,
   "metadata": {
    "ExecuteTime": {
     "end_time": "2018-08-14T18:04:49.886029Z",
     "start_time": "2018-08-14T18:04:49.881325Z"
    }
   },
   "outputs": [
    {
     "data": {
      "text/plain": [
       "(91.525, 337.596)"
      ]
     },
     "execution_count": 21,
     "metadata": {},
     "output_type": "execute_result"
    }
   ],
   "source": [
    "rv = stats.chi2(df=n-1)\n",
    "lcl = (n-1) * u_var / rv.isf(0.025)\n",
    "hcl = (n-1) * u_var / rv.isf(0.975)\n",
    "\n",
    "lcl, hcl"
   ]
  },
  {
   "cell_type": "code",
   "execution_count": 22,
   "metadata": {
    "ExecuteTime": {
     "end_time": "2018-08-14T18:04:50.027045Z",
     "start_time": "2018-08-14T18:04:49.887014Z"
    }
   },
   "outputs": [
    {
     "data": {
      "image/png": "[encoded data removed]",
      "text/plain": [
       "<Figure size 720x720 with 1 Axes>"
      ]
     },
     "metadata": {},
     "output_type": "display_data"
    }
   ],
   "source": [
    "fig = plt.figure(figsize=(10, 10))\n",
    "ax = fig.add_subplot(111)\n",
    "\n",
    "rv = stats.chi2(df=n-1)\n",
    "n_samples = 20\n",
    "ax.vlines(p_var, 0, 21)\n",
    "for i in range(n_samples):\n",
    "    sample_ = samples[i]\n",
    "    u_var_ = np.var(sample_, ddof=1)\n",
    "    lcl = (n-1) * u_var_ / rv.isf(0.025)\n",
    "    ucl = (n-1) * u_var_ / rv.isf(0.975)\n",
    "    if lcl <= p_var <= ucl:\n",
    "        ax.scatter(u_var_, n_samples-i, color='gray')\n",
    "        ax.hlines(n_samples-i, lcl, ucl, 'gray')\n",
    "    else:\n",
    "        ax.scatter(u_var_, n_samples-i, color='b')\n",
    "        ax.hlines(n_samples-i, lcl, ucl, 'b')\n",
    "ax.set_xticks([p_var])\n",
    "ax.set_xticklabels(['母分散'])\n",
    "\n",
    "plt.show()"
   ]
  },
  {
   "cell_type": "code",
   "execution_count": 23,
   "metadata": {
    "ExecuteTime": {
     "end_time": "2018-08-14T18:04:52.136237Z",
     "start_time": "2018-08-14T18:04:50.028148Z"
    }
   },
   "outputs": [
    {
     "data": {
      "text/plain": [
       "0.964"
      ]
     },
     "execution_count": 23,
     "metadata": {},
     "output_type": "execute_result"
    }
   ],
   "source": [
    "rv = stats.chi2(df=n-1)\n",
    "cnt = 0\n",
    "for sample_ in samples:\n",
    "    u_var_ = np.var(sample_, ddof=1)\n",
    "    lcl = (n-1) * u_var_ / rv.isf(0.025)\n",
    "    ucl = (n-1) * u_var_ / rv.isf(0.975)\n",
    "    if lcl <= p_var <= ucl:\n",
    "        cnt += 1\n",
    "        \n",
    "cnt / len(samples)"
   ]
  },
  {
   "cell_type": "markdown",
   "metadata": {},
   "source": [
    "### 正規分布の母平均(母分散未知)の区間推定"
   ]
  },
  {
   "cell_type": "code",
   "execution_count": 24,
   "metadata": {
    "ExecuteTime": {
     "end_time": "2018-08-14T18:04:52.144213Z",
     "start_time": "2018-08-14T18:04:52.137771Z"
    }
   },
   "outputs": [
    {
     "data": {
      "text/plain": [
       "(65.457, 75.343)"
      ]
     },
     "execution_count": 24,
     "metadata": {},
     "output_type": "execute_result"
    }
   ],
   "source": [
    "rv = stats.t(df=n-1)\n",
    "lcl = s_mean - rv.isf(0.025) * np.sqrt(s_var/n)\n",
    "ucl = s_mean - rv.isf(0.975) * np.sqrt(s_var/n)\n",
    "\n",
    "lcl, ucl"
   ]
  },
  {
   "cell_type": "markdown",
   "metadata": {},
   "source": [
    "### ベルヌーイ分布の母平均の区間推定"
   ]
  },
  {
   "cell_type": "code",
   "execution_count": 25,
   "metadata": {
    "ExecuteTime": {
     "end_time": "2018-08-14T18:04:52.151779Z",
     "start_time": "2018-08-14T18:04:52.145503Z"
    }
   },
   "outputs": [
    {
     "data": {
      "text/plain": [
       "array([1, 0, 1, 1, 1, 1, 1, 0, 0, 1])"
      ]
     },
     "execution_count": 25,
     "metadata": {},
     "output_type": "execute_result"
    }
   ],
   "source": [
    "enquete_df = pd.read_csv('../data/ch10_enquete.csv')\n",
    "enquete = np.array(enquete_df['知っている'])\n",
    "n = len(enquete)\n",
    "enquete[:10]"
   ]
  },
  {
   "cell_type": "code",
   "execution_count": 26,
   "metadata": {
    "ExecuteTime": {
     "end_time": "2018-08-14T18:04:52.155661Z",
     "start_time": "2018-08-14T18:04:52.152855Z"
    }
   },
   "outputs": [
    {
     "data": {
      "text/plain": [
       "0.709"
      ]
     },
     "execution_count": 26,
     "metadata": {},
     "output_type": "execute_result"
    }
   ],
   "source": [
    "s_mean = enquete.mean()\n",
    "s_mean"
   ]
  },
  {
   "cell_type": "code",
   "execution_count": 27,
   "metadata": {
    "ExecuteTime": {
     "end_time": "2018-08-14T18:04:52.162410Z",
     "start_time": "2018-08-14T18:04:52.156863Z"
    }
   },
   "outputs": [
    {
     "data": {
      "text/plain": [
       "(0.681, 0.737)"
      ]
     },
     "execution_count": 27,
     "metadata": {},
     "output_type": "execute_result"
    }
   ],
   "source": [
    "rv = stats.norm()\n",
    "lcl = s_mean - rv.isf(0.025) * np.sqrt(s_mean*(1-s_mean)/n)\n",
    "ucl = s_mean - rv.isf(0.975) * np.sqrt(s_mean*(1-s_mean)/n)\n",
    "\n",
    "lcl, ucl"
   ]
  },
  {
   "cell_type": "markdown",
   "metadata": {},
   "source": [
    "### ポアソン分布の母平均の区間推定"
   ]
  },
  {
   "cell_type": "code",
   "execution_count": 28,
   "metadata": {
    "ExecuteTime": {
     "end_time": "2018-08-14T18:04:52.168492Z",
     "start_time": "2018-08-14T18:04:52.163536Z"
    }
   },
   "outputs": [
    {
     "data": {
      "text/plain": [
       "array([10, 11,  9,  9, 18, 13,  4, 10, 10,  8])"
      ]
     },
     "execution_count": 28,
     "metadata": {},
     "output_type": "execute_result"
    }
   ],
   "source": [
    "n_access_df = pd.read_csv('../data/ch10_access.csv')\n",
    "n_access = np.array(n_access_df['アクセス数'])\n",
    "n = len(n_access)\n",
    "n_access[:10]"
   ]
  },
  {
   "cell_type": "code",
   "execution_count": 29,
   "metadata": {
    "ExecuteTime": {
     "end_time": "2018-08-14T18:04:52.173705Z",
     "start_time": "2018-08-14T18:04:52.169557Z"
    }
   },
   "outputs": [
    {
     "data": {
      "text/plain": [
       "10.444"
      ]
     },
     "execution_count": 29,
     "metadata": {},
     "output_type": "execute_result"
    }
   ],
   "source": [
    "s_mean = n_access.mean()\n",
    "s_mean"
   ]
  },
  {
   "cell_type": "code",
   "execution_count": 30,
   "metadata": {
    "ExecuteTime": {
     "end_time": "2018-08-14T18:04:52.179685Z",
     "start_time": "2018-08-14T18:04:52.174691Z"
    }
   },
   "outputs": [
    {
     "data": {
      "text/plain": [
       "(9.698, 11.191)"
      ]
     },
     "execution_count": 30,
     "metadata": {},
     "output_type": "execute_result"
    }
   ],
   "source": [
    "rv = stats.norm()\n",
    "lcl = s_mean - rv.isf(0.025) * np.sqrt(s_mean/n)\n",
    "ucl = s_mean - rv.isf(0.975) * np.sqrt(s_mean/n)\n",
    "\n",
    "lcl, ucl"
   ]
  },
  {
   "cell_type": "code",
   "execution_count": null,
   "metadata": {},
   "outputs": [],
   "source": []
  }
 ],
 "metadata": {
  "kernelspec": {
   "display_name": "Python 3",
   "language": "python",
   "name": "python3"
  },
  "language_info": {
   "codemirror_mode": {
    "name": "ipython",
    "version": 3
   },
   "file_extension": ".py",
   "mimetype": "text/x-python",
   "name": "python",
   "nbconvert_exporter": "python",
   "pygments_lexer": "ipython3",
   "version": "3.6.5"
  },
  "toc": {
   "nav_menu": {},
   "number_sections": true,
   "sideBar": true,
   "skip_h1_title": false,
   "toc_cell": false,
   "toc_position": {
    "height": "821px",
    "left": "0px",
    "right": "1222.58px",
    "top": "111px",
    "width": "344px"
   },
   "toc_section_display": "block",
   "toc_window_display": false
  }
 },
 "nbformat": 4,
 "nbformat_minor": 2
}
